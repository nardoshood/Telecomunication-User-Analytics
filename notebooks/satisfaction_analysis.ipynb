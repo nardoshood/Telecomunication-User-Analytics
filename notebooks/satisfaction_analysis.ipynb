{
 "cells": [
  {
   "cell_type": "code",
   "execution_count": 1,
   "metadata": {},
   "outputs": [],
   "source": [
    "import pandas as pd\n",
    "import plotly.express as px\n",
    "import matplotlib.pyplot as plt\n",
    "import seaborn as sns\n",
    "import sys\n",
    "import os\n",
    "import numpy as np\n",
    "from pandas.api.types import is_numeric_dtype\n",
    "from numpy import asarray\n",
    "from sklearn.preprocessing import MinMaxScaler\n",
    "sys.path.insert(0, '../scripts')\n",
    "sys.path.insert(0,'../data')\n",
    "from visualize import *\n"
   ]
  },
  {
   "cell_type": "markdown",
   "metadata": {},
   "source": [
    "The satisfaction of a user is dependent on user engagement and experience,engagement score to each user.\n",
    "Considering the engagement score as the Euclidean distance between the user data point & the less engaged cluster  each user was scored with an engagement score. Also considering the experience score as the Euclidean distance between the user data point & the worst experience’s cluster, the data was scored with an experience score.\n",
    "\n",
    "\n"
   ]
  },
  {
   "cell_type": "code",
   "execution_count": 2,
   "metadata": {},
   "outputs": [],
   "source": [
    "eng_data = pd.read_csv(\"../data/eng_cluster_data.csv\")\n",
    "exp_data = pd.read_csv(\"../data/exp_cluster_data.csv\")"
   ]
  },
  {
   "cell_type": "markdown",
   "metadata": {},
   "source": [
    "Task 4.2 - Consider the average of both engagement & experience scores as  the satisfaction score & report the top 10 satisfied customer \n",
    "Task 4.3 - Build a regression model of your choice to predict the satisfaction score of a customer. \n",
    "Task 4.4 - Run a k-means (k=2) on the engagement & the experience score . \n",
    "Task 4.5 - Aggregate the average satisfaction & experience score per cluster. \n",
    "Task 4.6 - Export your final table containing all user id + engagement, experience & satisfaction scores in your local MySQL database. Report a screenshot of a select query output on the exported table. "
   ]
  }
 ],
 "metadata": {
  "interpreter": {
   "hash": "b1635c47c9b858d687f4f0384751a7696223f8a7da773e664ad05c30f7f5bef7"
  },
  "kernelspec": {
   "display_name": "Python 3.8.10 ('user_telecom': venv)",
   "language": "python",
   "name": "python3"
  },
  "language_info": {
   "codemirror_mode": {
    "name": "ipython",
    "version": 3
   },
   "file_extension": ".py",
   "mimetype": "text/x-python",
   "name": "python",
   "nbconvert_exporter": "python",
   "pygments_lexer": "ipython3",
   "version": "3.8.10"
  },
  "orig_nbformat": 4
 },
 "nbformat": 4,
 "nbformat_minor": 2
}
